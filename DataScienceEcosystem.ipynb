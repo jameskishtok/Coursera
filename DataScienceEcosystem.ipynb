{
 "cells": [
  {
   "cell_type": "markdown",
   "id": "d15811dc",
   "metadata": {},
   "source": [
    "Exercise 1: Create a Jupyter Notebook\n",
    "Create a new Jupyter notebook called DataScienceEcosystem.ipynb"
   ]
  },
  {
   "cell_type": "markdown",
   "id": "efe9ccd4",
   "metadata": {},
   "source": [
    "Exercise 2 - Create a markdown cell with the title of the notebook. (1 pt)\n",
    "<h1>Data Science Tools and Ecosystem</h1>"
   ]
  },
  {
   "cell_type": "markdown",
   "id": "877c81c9",
   "metadata": {},
   "source": [
    "Exercise 3 - Create a markdown cell for an introduction. (1 pt)\n",
    "<p>In this notebook, Data Science Tools and Ecosystem are summarized.<p>"
   ]
  },
  {
   "cell_type": "markdown",
   "id": "8625f58a",
   "metadata": {},
   "source": [
    "Exercise 4 - Create a markdown cell to list data science languages. (3 pts)\n",
    "\n",
    "1. Java \n",
    "2. Python\n",
    "3. R \n",
    "4. SQL\n",
    "5. Julia\n",
    "6. Scala\n",
    "7. Javascript"
   ]
  },
  {
   "cell_type": "markdown",
   "id": "7a07f140",
   "metadata": {},
   "source": [
    "Exercise 5 - Create a markdown cell to list data science libraries. (3 pts)\n",
    "\n",
    "1. NumPy\n",
    "2. SciPy\n",
    "3. Pandas\n",
    "4. PyTorch\n",
    "5. PyBrain\n",
    "6. Bob\n",
    "7. ELI5\n",
    "8. NuPic\n",
    "9. Caffe2\n",
    "10. Matplotlib"
   ]
  },
  {
   "cell_type": "markdown",
   "id": "f7b110be",
   "metadata": {},
   "source": [
    "Exercise 6 - Create a markdown cell with a table of Data Science tools. (3 pts)\n",
    "<H1> Data Science tools </H1> \n",
    "\n",
    "| # | Data Science Tool |  |\n",
    "| :- | -: | :-: |\n",
    "| 1 | SAS | \n",
    "| 2 | Apache Spark |\n",
    "| 3 | Tableau |\n",
    "| 4 | BigML |\n",
    "| 5 | Jupyter|\n",
    "| 6 | Matplotlib|\n",
    "| 7 | ggplot2|\n"
   ]
  },
  {
   "cell_type": "markdown",
   "id": "6abf65f8",
   "metadata": {},
   "source": [
    "Exercise 7 - Create a markdown cell introducing arithmetic expression examples. (1 pt)\n",
    "<H1> Examples of Arithmetic using python </H1> "
   ]
  },
  {
   "cell_type": "code",
   "execution_count": 10,
   "id": "b944e97a",
   "metadata": {},
   "outputs": [
    {
     "data": {
      "text/plain": [
       "111"
      ]
     },
     "execution_count": 10,
     "metadata": {},
     "output_type": "execute_result"
    }
   ],
   "source": [
    "# Arithmetic operations\n",
    "code = compile(\"100 + 11\", \"<string>\", \"eval\")\n",
    "eval(code)\n",
    "# Result: 111"
   ]
  },
  {
   "cell_type": "code",
   "execution_count": 11,
   "id": "c0b7137a",
   "metadata": {},
   "outputs": [
    {
     "data": {
      "text/plain": [
       "18"
      ]
     },
     "execution_count": 11,
     "metadata": {},
     "output_type": "execute_result"
    }
   ],
   "source": [
    "codeX = compile(\"(4 + 5) * 2\", \"<string>\", \"eval\")\n",
    "eval(codeX)\n",
    "# Result: 18"
   ]
  },
  {
   "cell_type": "code",
   "execution_count": 12,
   "id": "f5f47a02",
   "metadata": {},
   "outputs": [
    {
     "data": {
      "text/plain": [
       "65449.84694978735"
      ]
     },
     "execution_count": 12,
     "metadata": {},
     "output_type": "execute_result"
    }
   ],
   "source": [
    "import math\n",
    "# Volume of a sphere\n",
    "codeY = compile(\"4 / 3 * math.pi * math.pow(25, 3)\", \"<string>\", \"eval\")\n",
    "eval(codeY)\n",
    "# Result: 65449.84694978735"
   ]
  },
  {
   "cell_type": "markdown",
   "id": "aa0ecfdc",
   "metadata": {},
   "source": [
    "Exercise 8 - Create a code cell to multiply and add numbers. (2 pts)"
   ]
  },
  {
   "cell_type": "code",
   "execution_count": 13,
   "id": "73c65298",
   "metadata": {},
   "outputs": [
    {
     "data": {
      "text/plain": [
       "314"
      ]
     },
     "execution_count": 13,
     "metadata": {},
     "output_type": "execute_result"
    }
   ],
   "source": [
    "(3*4)+5\n",
    "# Result: 17"
   ]
  },
  {
   "cell_type": "markdown",
   "id": "08d456b4",
   "metadata": {},
   "source": [
    "Exercise 9 - Create a code cell to convert minutes to hours. (2 pts)\n",
    "\n",
    "This will convert 200 minutes to hours by dividing by 60"
   ]
  },
  {
   "cell_type": "code",
   "execution_count": 15,
   "id": "a51a5835",
   "metadata": {},
   "outputs": [
    {
     "name": "stdout",
     "output_type": "stream",
     "text": [
      "0 days, 6.666666666666667 hours, 0 mins. \n"
     ]
    }
   ],
   "source": [
    "days = 0\n",
    "hours = 0\n",
    "mins = 0\n",
    "\n",
    "time = 400\n",
    "#days = time / 1440\n",
    "leftover_minutes = time % 1440\n",
    "hours = leftover_minutes / 60\n",
    "#mins = time - (days*1440) - (hours*60)\n",
    "print(str(days) + \" days, \" + str(hours) + \" hours, \" + str(mins) +  \" mins. \")\n",
    "\n",
    "# Result: 6.666666666666667 hours"
   ]
  },
  {
   "cell_type": "markdown",
   "id": "109cc9a5",
   "metadata": {},
   "source": [
    "Exercise 10 -Insert a markdown cell to list Objectives. (3 pts)\n",
    "\n",
    "**Objectives:**\n",
    "\n",
    "\n",
    "List popular languages for Data Science\n",
    "*  Python\n",
    "*  R\n",
    "*  Julia\n",
    "*  Scala\n",
    "*  Matlab"
   ]
  },
  {
   "cell_type": "markdown",
   "id": "2b99e3d8",
   "metadata": {},
   "source": [
    "Exercise 11 - Create a markdown cell to indicate the Author’s name. (2 pts)\n",
    "\n",
    "<H1> Author: </H1>\n",
    "\n",
    "James Kishtok"
   ]
  },
  {
   "cell_type": "markdown",
   "id": "71e41c66",
   "metadata": {},
   "source": [
    "Exercise 12 - Share your notebook through GitHub (3 pts)\n",
    "\n",
    "Exercise 13 - Take a screenshot of the first page of the notebook. (1 pt)"
   ]
  }
 ],
 "metadata": {
  "kernelspec": {
   "display_name": "Python 3",
   "language": "python",
   "name": "python3"
  },
  "language_info": {
   "codemirror_mode": {
    "name": "ipython",
    "version": 3
   },
   "file_extension": ".py",
   "mimetype": "text/x-python",
   "name": "python",
   "nbconvert_exporter": "python",
   "pygments_lexer": "ipython3",
   "version": "3.10.9"
  }
 },
 "nbformat": 4,
 "nbformat_minor": 5
}
